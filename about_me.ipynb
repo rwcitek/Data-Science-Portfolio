{
  "nbformat": 4,
  "nbformat_minor": 0,
  "metadata": {
    "colab": {
      "provenance": [],
      "toc_visible": true,
      "include_colab_link": true
    },
    "kernelspec": {
      "name": "python3",
      "display_name": "Python 3"
    },
    "language_info": {
      "name": "python"
    }
  },
  "cells": [
    {
      "cell_type": "markdown",
      "metadata": {
        "id": "view-in-github",
        "colab_type": "text"
      },
      "source": [
        "<a href=\"https://colab.research.google.com/github/rwcitek/Data-Science-Portfolio/blob/main/about_me.ipynb\" target=\"_parent\"><img src=\"https://colab.research.google.com/assets/colab-badge.svg\" alt=\"Open In Colab\"/></a>"
      ]
    },
    {
      "cell_type": "markdown",
      "source": [
        "# Me"
      ],
      "metadata": {
        "id": "b2WNjoukP9Aw"
      }
    },
    {
      "cell_type": "markdown",
      "source": [
        "## Your preferred name and, optionally, pronouns\n",
        "\n",
        "Robert ( he / him )\n",
        "\n"
      ],
      "metadata": {
        "id": "fkcyDJ43LX78"
      }
    },
    {
      "cell_type": "markdown",
      "source": [
        "## Why did you sign up for this bootcamp?  \n",
        "\n",
        "My wife made me ... sort of.\n",
        "\n"
      ],
      "metadata": {
        "id": "JMdG2OJVbxCT"
      }
    },
    {
      "cell_type": "markdown",
      "source": [
        "## If you had your human body, but the head of an animal, what animal would you pick?\n",
        "\n",
        "Eagle: **way** better eyesight.\n",
        "\n"
      ],
      "metadata": {
        "id": "cjWZR_ZybwYz"
      }
    },
    {
      "cell_type": "markdown",
      "source": [
        "## If you had to delete all but 3 apps from your smartphone, which ones would you keep?\n",
        "\n",
        "- Google maps\n",
        "- Google Voice\n",
        "- Apple App store, to add more apps\n",
        "\n"
      ],
      "metadata": {
        "id": "SA2L4UUlbvAD"
      }
    },
    {
      "cell_type": "markdown",
      "source": [
        "## What are your favorite podcasts?  (Or if you're not a podcast person share your favorite tv show, music, or other category.)\n",
        "\n",
        "- [Veritasium]( https://www.youtube.com/veritasium )\n",
        "- [3Blue1Brown]( https://www.youtube.com/c/3blue1brown )\n",
        "\n",
        "\n"
      ],
      "metadata": {
        "id": "xq3ufARebtkr"
      }
    },
    {
      "cell_type": "markdown",
      "source": [
        "## What sports/hobbies do you enjoy and why?\n",
        "\n",
        "| sport/hobby | why?\n",
        "|  - | -\n",
        "| swimming | little pain |\n",
        "| cycling | speed |\n",
        "| hiking | nature |\n",
        "| walking | practical |\n",
        "| cooking | love mixing/matching flavors |\n",
        "| eating | like trying food from other cultures |\n",
        "\n"
      ],
      "metadata": {
        "id": "MHKPWDzkbsMc"
      }
    },
    {
      "cell_type": "markdown",
      "source": [
        "## Anything else you want to share - be creative and have fun!\n",
        "\n",
        "Would like to hike to the basecamp of [Aconcagua]( https://en.wikipedia.org/wiki/Aconcagua ).\n",
        "\n",
        "[![Aconcagua]( https://upload.wikimedia.org/wikipedia/commons/thumb/b/b3/Aconcagua_Summit_Route.jpg/330px-Aconcagua_Summit_Route.jpg \"small image of Aconcagua route\" )]( https://upload.wikimedia.org/wikipedia/commons/thumb/b/b3/Aconcagua_Summit_Route.jpg/960px-Aconcagua_Summit_Route.jpg )\n",
        "\n",
        "\n",
        "\n"
      ],
      "metadata": {
        "id": "j3ndbyXXbefM"
      }
    },
    {
      "cell_type": "code",
      "execution_count": null,
      "metadata": {
        "id": "TBf7qYTbP6Qy"
      },
      "outputs": [],
      "source": []
    }
  ]
}